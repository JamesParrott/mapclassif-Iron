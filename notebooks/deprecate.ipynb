{
 "cells": [
  {
   "cell_type": "code",
   "execution_count": 1,
   "metadata": {},
   "outputs": [],
   "source": [
    "import libpysal \n",
    "import geopandas as gpd\n",
    "import mapclassify as mc"
   ]
  },
  {
   "cell_type": "code",
   "execution_count": 2,
   "metadata": {},
   "outputs": [],
   "source": [
    "columbus = gpd.read_file(libpysal.examples.get_path('columbus.shp'))"
   ]
  },
  {
   "cell_type": "code",
   "execution_count": 3,
   "metadata": {},
   "outputs": [
    {
     "name": "stderr",
     "output_type": "stream",
     "text": [
      "/home/serge/anaconda3/envs/pysaldev/lib/python3.7/site-packages/ipykernel_launcher.py:1: DeprecationWarning: Call to deprecated function (or staticmethod) Equal_Interval. (Use EqualInterval)\n",
      "  \"\"\"Entry point for launching an IPython kernel.\n"
     ]
    }
   ],
   "source": [
    "q5 = mc.Equal_Interval(columbus.CRIME)"
   ]
  },
  {
   "cell_type": "code",
   "execution_count": 4,
   "metadata": {},
   "outputs": [],
   "source": [
    "qc = mc.EqualInterval(columbus.CRIME)"
   ]
  },
  {
   "cell_type": "code",
   "execution_count": 5,
   "metadata": {},
   "outputs": [
    {
     "name": "stderr",
     "output_type": "stream",
     "text": [
      "/home/serge/anaconda3/envs/pysaldev/lib/python3.7/site-packages/ipykernel_launcher.py:1: DeprecationWarning: Call to deprecated function (or staticmethod) HeadTail_Breaks. (Use HeadTailBreaks)\n",
      "  \"\"\"Entry point for launching an IPython kernel.\n",
      "/home/serge/Dropbox/p/pysal/src/subpackages/mapclassify/mapclassify/classifiers.py:1105: DeprecationWarning: Call to deprecated function (or staticmethod) headTail_breaks. (use head_tail_breaks)\n",
      "  bins = headTail_breaks(x, bins)\n",
      "/home/serge/Dropbox/p/pysal/src/subpackages/mapclassify/mapclassify/classifiers.py:86: DeprecationWarning: Call to deprecated function (or staticmethod) headTail_breaks. (use head_tail_breaks)\n",
      "  return headTail_breaks(values[values >= mean], cuts)\n",
      "/home/serge/Dropbox/p/pysal/src/subpackages/mapclassify/mapclassify/classifiers.py:86: DeprecationWarning: Call to deprecated function (or staticmethod) headTail_breaks. (use head_tail_breaks)\n",
      "  return headTail_breaks(values[values >= mean], cuts)\n",
      "/home/serge/Dropbox/p/pysal/src/subpackages/mapclassify/mapclassify/classifiers.py:86: DeprecationWarning: Call to deprecated function (or staticmethod) headTail_breaks. (use head_tail_breaks)\n",
      "  return headTail_breaks(values[values >= mean], cuts)\n",
      "/home/serge/Dropbox/p/pysal/src/subpackages/mapclassify/mapclassify/classifiers.py:86: DeprecationWarning: Call to deprecated function (or staticmethod) headTail_breaks. (use head_tail_breaks)\n",
      "  return headTail_breaks(values[values >= mean], cuts)\n"
     ]
    },
    {
     "data": {
      "text/plain": [
       "            HeadTail_Breaks             \n",
       " \n",
       "Lower            Upper             Count\n",
       "========================================\n",
       "         x[i] <= 35.129               25\n",
       "35.129 < x[i] <= 49.361               12\n",
       "49.361 < x[i] <= 57.542                8\n",
       "57.542 < x[i] <= 63.304                3\n",
       "63.304 < x[i] <= 68.892                1"
      ]
     },
     "execution_count": 5,
     "metadata": {},
     "output_type": "execute_result"
    }
   ],
   "source": [
    "mc.HeadTail_Breaks(columbus.CRIME)"
   ]
  },
  {
   "cell_type": "code",
   "execution_count": 6,
   "metadata": {},
   "outputs": [
    {
     "name": "stderr",
     "output_type": "stream",
     "text": [
      "/home/serge/Dropbox/p/pysal/src/subpackages/mapclassify/mapclassify/classifiers.py:1105: DeprecationWarning: Call to deprecated function (or staticmethod) headTail_breaks. (use head_tail_breaks)\n",
      "  bins = headTail_breaks(x, bins)\n",
      "/home/serge/Dropbox/p/pysal/src/subpackages/mapclassify/mapclassify/classifiers.py:86: DeprecationWarning: Call to deprecated function (or staticmethod) headTail_breaks. (use head_tail_breaks)\n",
      "  return headTail_breaks(values[values >= mean], cuts)\n",
      "/home/serge/Dropbox/p/pysal/src/subpackages/mapclassify/mapclassify/classifiers.py:86: DeprecationWarning: Call to deprecated function (or staticmethod) headTail_breaks. (use head_tail_breaks)\n",
      "  return headTail_breaks(values[values >= mean], cuts)\n",
      "/home/serge/Dropbox/p/pysal/src/subpackages/mapclassify/mapclassify/classifiers.py:86: DeprecationWarning: Call to deprecated function (or staticmethod) headTail_breaks. (use head_tail_breaks)\n",
      "  return headTail_breaks(values[values >= mean], cuts)\n",
      "/home/serge/Dropbox/p/pysal/src/subpackages/mapclassify/mapclassify/classifiers.py:86: DeprecationWarning: Call to deprecated function (or staticmethod) headTail_breaks. (use head_tail_breaks)\n",
      "  return headTail_breaks(values[values >= mean], cuts)\n"
     ]
    },
    {
     "data": {
      "text/plain": [
       "            HeadTail_Breaks             \n",
       " \n",
       "Lower            Upper             Count\n",
       "========================================\n",
       "         x[i] <= 35.129               25\n",
       "35.129 < x[i] <= 49.361               12\n",
       "49.361 < x[i] <= 57.542                8\n",
       "57.542 < x[i] <= 63.304                3\n",
       "63.304 < x[i] <= 68.892                1"
      ]
     },
     "execution_count": 6,
     "metadata": {},
     "output_type": "execute_result"
    }
   ],
   "source": [
    "mc.HeadTailBreaks(columbus.CRIME)"
   ]
  },
  {
   "cell_type": "code",
   "execution_count": 7,
   "metadata": {},
   "outputs": [
    {
     "name": "stderr",
     "output_type": "stream",
     "text": [
      "/home/serge/anaconda3/envs/pysaldev/lib/python3.7/site-packages/ipykernel_launcher.py:1: DeprecationWarning: Call to deprecated function (or staticmethod) Box_Plot. (Use BoxPlot)\n",
      "  \"\"\"Entry point for launching an IPython kernel.\n"
     ]
    },
    {
     "data": {
      "text/plain": [
       "                 Box Plot                 \n",
       " \n",
       " Lower            Upper              Count\n",
       "==========================================\n",
       "          x[i] <= -22.757                0\n",
       "-22.757 < x[i] <=  20.049               13\n",
       " 20.049 < x[i] <=  34.001               12\n",
       " 34.001 < x[i] <=  48.585               12\n",
       " 48.585 < x[i] <=  91.391               12"
      ]
     },
     "execution_count": 7,
     "metadata": {},
     "output_type": "execute_result"
    }
   ],
   "source": [
    "mc.Box_Plot(columbus.CRIME)"
   ]
  },
  {
   "cell_type": "code",
   "execution_count": 8,
   "metadata": {},
   "outputs": [
    {
     "data": {
      "text/plain": [
       "                 Box Plot                 \n",
       " \n",
       " Lower            Upper              Count\n",
       "==========================================\n",
       "          x[i] <= -22.757                0\n",
       "-22.757 < x[i] <=  20.049               13\n",
       " 20.049 < x[i] <=  34.001               12\n",
       " 34.001 < x[i] <=  48.585               12\n",
       " 48.585 < x[i] <=  91.391               12"
      ]
     },
     "execution_count": 8,
     "metadata": {},
     "output_type": "execute_result"
    }
   ],
   "source": [
    "mc.BoxPlot(columbus.CRIME)"
   ]
  },
  {
   "cell_type": "code",
   "execution_count": 9,
   "metadata": {},
   "outputs": [
    {
     "name": "stderr",
     "output_type": "stream",
     "text": [
      "/home/serge/anaconda3/envs/pysaldev/lib/python3.7/site-packages/ipykernel_launcher.py:1: DeprecationWarning: Call to deprecated function (or staticmethod) Natural_Breaks. (Natural_Breaks is being renamed to NaturalBreaks. Natural_Breaks will be removed on 2020-01-31.) -- Deprecated since version 2.1.0.\n",
      "  \"\"\"Entry point for launching an IPython kernel.\n"
     ]
    },
    {
     "data": {
      "text/plain": [
       "             NaturalBreaks              \n",
       " \n",
       "Lower            Upper             Count\n",
       "========================================\n",
       "         x[i] <=  0.224                2\n",
       " 0.224 < x[i] <= 22.541               12\n",
       "22.541 < x[i] <= 34.001               11\n",
       "34.001 < x[i] <= 48.585               12\n",
       "48.585 < x[i] <= 68.892               12"
      ]
     },
     "execution_count": 9,
     "metadata": {},
     "output_type": "execute_result"
    }
   ],
   "source": [
    "mc.Natural_Breaks(columbus.CRIME)"
   ]
  },
  {
   "cell_type": "code",
   "execution_count": 10,
   "metadata": {},
   "outputs": [
    {
     "data": {
      "text/plain": [
       "             NaturalBreaks              \n",
       " \n",
       "Lower            Upper             Count\n",
       "========================================\n",
       "         x[i] <=  0.224                2\n",
       " 0.224 < x[i] <= 22.541               12\n",
       "22.541 < x[i] <= 34.001               11\n",
       "34.001 < x[i] <= 48.585               12\n",
       "48.585 < x[i] <= 68.892               12"
      ]
     },
     "execution_count": 10,
     "metadata": {},
     "output_type": "execute_result"
    }
   ],
   "source": [
    "mc.NaturalBreaks(columbus.CRIME)"
   ]
  },
  {
   "cell_type": "code",
   "execution_count": 11,
   "metadata": {},
   "outputs": [
    {
     "name": "stderr",
     "output_type": "stream",
     "text": [
      "/home/serge/anaconda3/envs/pysaldev/lib/python3.7/site-packages/ipykernel_launcher.py:1: DeprecationWarning: Call to deprecated function (or staticmethod) Fisher_Jenks. (Fisher_Jenks is being renamed to FisherJenks. Fisher_Jenks will be removed on 2020-01-31.) -- Deprecated since version 2.1.0.\n",
      "  \"\"\"Entry point for launching an IPython kernel.\n"
     ]
    },
    {
     "data": {
      "text/plain": [
       "              FisherJenks               \n",
       " \n",
       "Lower            Upper             Count\n",
       "========================================\n",
       "         x[i] <=  0.224                2\n",
       " 0.224 < x[i] <= 22.541               12\n",
       "22.541 < x[i] <= 34.001               11\n",
       "34.001 < x[i] <= 48.585               12\n",
       "48.585 < x[i] <= 68.892               12"
      ]
     },
     "execution_count": 11,
     "metadata": {},
     "output_type": "execute_result"
    }
   ],
   "source": [
    "mc.Fisher_Jenks(columbus.CRIME)"
   ]
  },
  {
   "cell_type": "code",
   "execution_count": 12,
   "metadata": {},
   "outputs": [
    {
     "data": {
      "text/plain": [
       "              FisherJenks               \n",
       " \n",
       "Lower            Upper             Count\n",
       "========================================\n",
       "         x[i] <=  0.224                2\n",
       " 0.224 < x[i] <= 22.541               12\n",
       "22.541 < x[i] <= 34.001               11\n",
       "34.001 < x[i] <= 48.585               12\n",
       "48.585 < x[i] <= 68.892               12"
      ]
     },
     "execution_count": 12,
     "metadata": {},
     "output_type": "execute_result"
    }
   ],
   "source": [
    "mc.FisherJenks(columbus.CRIME)"
   ]
  },
  {
   "cell_type": "code",
   "execution_count": 13,
   "metadata": {},
   "outputs": [
    {
     "name": "stderr",
     "output_type": "stream",
     "text": [
      "/home/serge/anaconda3/envs/pysaldev/lib/python3.7/site-packages/ipykernel_launcher.py:1: DeprecationWarning: Call to deprecated function (or staticmethod) Std_Mean. (Deprecated: Std_Mean will be renamed to StdMean. Std_Mean will be removed on 2020-01-31.) -- Deprecated since version 2.1.0.\n",
      "  \"\"\"Entry point for launching an IPython kernel.\n"
     ]
    },
    {
     "data": {
      "text/plain": [
       "                StdMean                 \n",
       " \n",
       "Lower            Upper             Count\n",
       "========================================\n",
       "         x[i] <=  1.665                2\n",
       " 1.665 < x[i] <= 18.397                6\n",
       "18.397 < x[i] <= 51.861               30\n",
       "51.861 < x[i] <= 68.593               10\n",
       "68.593 < x[i] <= 68.892                1"
      ]
     },
     "execution_count": 13,
     "metadata": {},
     "output_type": "execute_result"
    }
   ],
   "source": [
    "mc.Std_Mean(columbus.CRIME)"
   ]
  },
  {
   "cell_type": "code",
   "execution_count": 14,
   "metadata": {},
   "outputs": [
    {
     "data": {
      "text/plain": [
       "                StdMean                 \n",
       " \n",
       "Lower            Upper             Count\n",
       "========================================\n",
       "         x[i] <=  1.665                2\n",
       " 1.665 < x[i] <= 18.397                6\n",
       "18.397 < x[i] <= 51.861               30\n",
       "51.861 < x[i] <= 68.593               10\n",
       "68.593 < x[i] <= 68.892                1"
      ]
     },
     "execution_count": 14,
     "metadata": {},
     "output_type": "execute_result"
    }
   ],
   "source": [
    "mc.StdMean(columbus.CRIME)"
   ]
  },
  {
   "cell_type": "code",
   "execution_count": 15,
   "metadata": {},
   "outputs": [
    {
     "name": "stderr",
     "output_type": "stream",
     "text": [
      "/home/serge/anaconda3/envs/pysaldev/lib/python3.7/site-packages/ipykernel_launcher.py:1: DeprecationWarning: Call to deprecated function (or staticmethod) User_Defined. (Deprecated: User_Defined will be renamed to UserDefined. User_Defined will be removed on 2020-01-31.) -- Deprecated since version 2.1.0.\n",
      "  \"\"\"Entry point for launching an IPython kernel.\n"
     ]
    },
    {
     "data": {
      "text/plain": [
       "              UserDefined               \n",
       " \n",
       "Lower            Upper             Count\n",
       "========================================\n",
       "         x[i] <= 51.862               38\n",
       "51.862 < x[i] <= 69.000               11"
      ]
     },
     "execution_count": 15,
     "metadata": {},
     "output_type": "execute_result"
    }
   ],
   "source": [
    "mc.User_Defined(columbus.CRIME, bins=[51.862, 69.0])"
   ]
  },
  {
   "cell_type": "code",
   "execution_count": 16,
   "metadata": {},
   "outputs": [
    {
     "data": {
      "text/plain": [
       "              UserDefined               \n",
       " \n",
       "Lower            Upper             Count\n",
       "========================================\n",
       "         x[i] <= 51.862               38\n",
       "51.862 < x[i] <= 69.000               11"
      ]
     },
     "execution_count": 16,
     "metadata": {},
     "output_type": "execute_result"
    }
   ],
   "source": [
    "mc.UserDefined(columbus.CRIME, bins=[51.862, 69.0])"
   ]
  },
  {
   "cell_type": "code",
   "execution_count": 17,
   "metadata": {},
   "outputs": [
    {
     "name": "stderr",
     "output_type": "stream",
     "text": [
      "/home/serge/anaconda3/envs/pysaldev/lib/python3.7/site-packages/ipykernel_launcher.py:1: DeprecationWarning: Call to deprecated function (or staticmethod) Jenks_Caspall. (Deprecated: Jenks_Capsall will be renamed to JenksCaspall.Jenks_Caspall will be removed on 2020-01-31.) -- Deprecated since version 2.1.0.\n",
      "  \"\"\"Entry point for launching an IPython kernel.\n"
     ]
    },
    {
     "data": {
      "text/plain": [
       "              JenksCaspall              \n",
       " \n",
       "Lower            Upper             Count\n",
       "========================================\n",
       "         x[i] <= 20.049               13\n",
       "20.049 < x[i] <= 29.028                7\n",
       "29.028 < x[i] <= 36.869                7\n",
       "36.869 < x[i] <= 48.585               10\n",
       "48.585 < x[i] <= 68.892               12"
      ]
     },
     "execution_count": 17,
     "metadata": {},
     "output_type": "execute_result"
    }
   ],
   "source": [
    "mc.Jenks_Caspall(columbus.CRIME)"
   ]
  },
  {
   "cell_type": "code",
   "execution_count": 18,
   "metadata": {},
   "outputs": [
    {
     "data": {
      "text/plain": [
       "              JenksCaspall              \n",
       " \n",
       "Lower            Upper             Count\n",
       "========================================\n",
       "         x[i] <= 20.049               13\n",
       "20.049 < x[i] <= 29.028                7\n",
       "29.028 < x[i] <= 36.869                7\n",
       "36.869 < x[i] <= 48.585               10\n",
       "48.585 < x[i] <= 68.892               12"
      ]
     },
     "execution_count": 18,
     "metadata": {},
     "output_type": "execute_result"
    }
   ],
   "source": [
    "mc.JenksCaspall(columbus.CRIME)"
   ]
  },
  {
   "cell_type": "code",
   "execution_count": 19,
   "metadata": {},
   "outputs": [
    {
     "name": "stderr",
     "output_type": "stream",
     "text": [
      "/home/serge/anaconda3/envs/pysaldev/lib/python3.7/site-packages/ipykernel_launcher.py:1: DeprecationWarning: Call to deprecated function (or staticmethod) Jenks_Caspall_Sampled. (Deprecated: Jenks_Caspall_Sampled will be renamed to JenksCaspallSampled. Jenks_Caspall_Sampled will be removed on 2020-01-31.) -- Deprecated since version 2.1.0.\n",
      "  \"\"\"Entry point for launching an IPython kernel.\n",
      "/home/serge/Dropbox/p/pysal/src/subpackages/mapclassify/mapclassify/classifiers.py:137: UserWarning: Warning: Not enough unique values in array to form k classes\n",
      "  \"Warning: Not enough unique values in array to form k classes\", UserWarning\n",
      "/home/serge/Dropbox/p/pysal/src/subpackages/mapclassify/mapclassify/classifiers.py:139: UserWarning: Warning: setting k to 1\n",
      "  Warn(\"Warning: setting k to %d\" % k_q, UserWarning)\n",
      "/home/serge/anaconda3/envs/pysaldev/lib/python3.7/site-packages/numpy/core/fromnumeric.py:3118: RuntimeWarning: Mean of empty slice.\n",
      "  out=out, **kwargs)\n",
      "/home/serge/anaconda3/envs/pysaldev/lib/python3.7/site-packages/numpy/core/_methods.py:85: RuntimeWarning: invalid value encountered in double_scalars\n",
      "  ret = ret.dtype.type(ret / rcount)\n",
      "/home/serge/Dropbox/p/pysal/src/subpackages/mapclassify/mapclassify/classifiers.py:823: RuntimeWarning: invalid value encountered in double_scalars\n",
      "  gadf = 1 - self.adcm / adam\n",
      "/home/serge/anaconda3/envs/pysaldev/lib/python3.7/site-packages/pandas/core/computation/expressions.py:183: UserWarning: evaluating in Python space because the '*' operator is not supported by numexpr for the bool dtype, use '&' instead\n",
      "  .format(op=op_str, alt_op=unsupported[op_str]))\n",
      "/home/serge/anaconda3/envs/pysaldev/lib/python3.7/site-packages/numpy/core/fromnumeric.py:56: FutureWarning: Series.nonzero() is deprecated and will be removed in a future version.Use Series.to_numpy().nonzero() instead\n",
      "  return getattr(obj, method)(*args, **kwds)\n"
     ]
    },
    {
     "data": {
      "text/plain": [
       "          JenksCaspallSampled           \n",
       " \n",
       "Lower            Upper             Count\n",
       "========================================\n",
       "         x[i] <= 68.892               49"
      ]
     },
     "execution_count": 19,
     "metadata": {},
     "output_type": "execute_result"
    }
   ],
   "source": [
    "mc.Jenks_Caspall_Sampled(columbus.CRIME)"
   ]
  },
  {
   "cell_type": "code",
   "execution_count": 20,
   "metadata": {},
   "outputs": [
    {
     "name": "stderr",
     "output_type": "stream",
     "text": [
      "/home/serge/anaconda3/envs/pysaldev/lib/python3.7/site-packages/ipykernel_launcher.py:1: DeprecationWarning: Call to deprecated function (or staticmethod) Jenks_Caspall_Forced. (Deprecated: Jenks_Caspall_Forced will be renamed to JenksCaspallForced. Jenks_Caspall_Forced will be removed on 2020-01-31.) -- Deprecated since version 2.1.0.\n",
      "  \"\"\"Entry point for launching an IPython kernel.\n"
     ]
    },
    {
     "data": {
      "text/plain": [
       "           JenksCaspallForced           \n",
       " \n",
       "Lower            Upper             Count\n",
       "========================================\n",
       "         x[i] <= 18.905               10\n",
       "18.905 < x[i] <= 29.028               10\n",
       "29.028 < x[i] <= 38.426                9\n",
       "38.426 < x[i] <= 52.794               10\n",
       "52.794 < x[i] <= 68.892               10"
      ]
     },
     "execution_count": 20,
     "metadata": {},
     "output_type": "execute_result"
    }
   ],
   "source": [
    "mc.Jenks_Caspall_Forced(columbus.CRIME)"
   ]
  },
  {
   "cell_type": "code",
   "execution_count": 21,
   "metadata": {},
   "outputs": [
    {
     "data": {
      "text/plain": [
       "           JenksCaspallForced           \n",
       " \n",
       "Lower            Upper             Count\n",
       "========================================\n",
       "         x[i] <= 18.905               10\n",
       "18.905 < x[i] <= 29.028               10\n",
       "29.028 < x[i] <= 38.426                9\n",
       "38.426 < x[i] <= 52.794               10\n",
       "52.794 < x[i] <= 68.892               10"
      ]
     },
     "execution_count": 21,
     "metadata": {},
     "output_type": "execute_result"
    }
   ],
   "source": [
    "mc.JenksCaspallForced(columbus.CRIME)"
   ]
  },
  {
   "cell_type": "code",
   "execution_count": 22,
   "metadata": {},
   "outputs": [
    {
     "name": "stderr",
     "output_type": "stream",
     "text": [
      "/home/serge/anaconda3/envs/pysaldev/lib/python3.7/site-packages/pandas/core/computation/expressions.py:183: UserWarning: evaluating in Python space because the '*' operator is not supported by numexpr for the bool dtype, use '&' instead\n",
      "  .format(op=op_str, alt_op=unsupported[op_str]))\n",
      "/home/serge/anaconda3/envs/pysaldev/lib/python3.7/site-packages/numpy/core/fromnumeric.py:56: FutureWarning: Series.nonzero() is deprecated and will be removed in a future version.Use Series.to_numpy().nonzero() instead\n",
      "  return getattr(obj, method)(*args, **kwds)\n"
     ]
    },
    {
     "data": {
      "text/plain": [
       "          JenksCaspallSampled           \n",
       " \n",
       "Lower            Upper             Count\n",
       "========================================\n",
       "         x[i] <= 26.067               17\n",
       "26.067 < x[i] <= 29.028                3\n",
       "29.028 < x[i] <= 56.920               24\n",
       "56.920 < x[i] <= 62.275                4\n",
       "62.275 < x[i] <= 68.892                1"
      ]
     },
     "execution_count": 22,
     "metadata": {},
     "output_type": "execute_result"
    }
   ],
   "source": [
    "mc.JenksCaspallSampled(columbus.CRIME)"
   ]
  },
  {
   "cell_type": "code",
   "execution_count": 23,
   "metadata": {},
   "outputs": [
    {
     "name": "stderr",
     "output_type": "stream",
     "text": [
      "/home/serge/anaconda3/envs/pysaldev/lib/python3.7/site-packages/ipykernel_launcher.py:1: DeprecationWarning: Call to deprecated function (or staticmethod) Max_P_Classifier. (Deprecated: Max_P_Classifier will be renamed to Max_P.Max_P_Classifier will be removed on 2020-01-31.) -- Deprecated since version 2.1.0.\n",
      "  \"\"\"Entry point for launching an IPython kernel.\n"
     ]
    },
    {
     "data": {
      "text/plain": [
       "                  MaxP                  \n",
       " \n",
       "Lower            Upper             Count\n",
       "========================================\n",
       "         x[i] <= 27.823               19\n",
       "27.823 < x[i] <= 29.028                1\n",
       "29.028 < x[i] <= 39.175               10\n",
       "39.175 < x[i] <= 62.275               18\n",
       "62.275 < x[i] <= 68.892                1"
      ]
     },
     "execution_count": 23,
     "metadata": {},
     "output_type": "execute_result"
    }
   ],
   "source": [
    "mc.Max_P_Classifier(columbus.CRIME, k=5)"
   ]
  },
  {
   "cell_type": "code",
   "execution_count": 24,
   "metadata": {},
   "outputs": [
    {
     "data": {
      "text/plain": [
       "                  MaxP                  \n",
       " \n",
       "Lower            Upper             Count\n",
       "========================================\n",
       "         x[i] <= 27.823               19\n",
       "27.823 < x[i] <= 29.028                1\n",
       "29.028 < x[i] <= 39.175               10\n",
       "39.175 < x[i] <= 50.732                8\n",
       "50.732 < x[i] <= 68.892               11"
      ]
     },
     "execution_count": 24,
     "metadata": {},
     "output_type": "execute_result"
    }
   ],
   "source": [
    "mc.MaxP(columbus.CRIME, k=5)"
   ]
  },
  {
   "cell_type": "code",
   "execution_count": null,
   "metadata": {},
   "outputs": [],
   "source": []
  }
 ],
 "metadata": {
  "anaconda-cloud": {},
  "kernelspec": {
   "display_name": "Python 3",
   "language": "python",
   "name": "python3"
  },
  "language_info": {
   "codemirror_mode": {
    "name": "ipython",
    "version": 3
   },
   "file_extension": ".py",
   "mimetype": "text/x-python",
   "name": "python",
   "nbconvert_exporter": "python",
   "pygments_lexer": "ipython3",
   "version": "3.7.3"
  }
 },
 "nbformat": 4,
 "nbformat_minor": 2
}
